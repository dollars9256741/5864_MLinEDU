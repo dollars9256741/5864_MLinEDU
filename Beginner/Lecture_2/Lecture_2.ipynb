{
 "cells": [
  {
   "cell_type": "markdown",
   "metadata": {},
   "source": [
    "# 5864_MLinEDU Beginner TA Lecture 2: Variables, loops, scope and array\n",
    "Teacher: Chun-Shu Wei  \n",
    "Teaching Assistant: 劉昱劭,Min-Jiun Tsai   \n",
    "This week, we'll introduce :\n",
    "1. variables,\n",
    "2. if...else statement\n",
    "3. while loop\n",
    "4. for loop\n",
    "5. iterator\n",
    "6. scope\n",
    "7. array\n",
    "in Python."
   ]
  },
  {
   "cell_type": "markdown",
   "metadata": {},
   "source": [
    "## Section 1: Python Variables[1][2]\n",
    "### Q: What is Python variable?\n",
    "A variable is a **named location** used to **store data in the memory**.   \n",
    "It is helpful to think of variables as a container that holds data which can be changed later throughout programming.   \n",
    "For example,"
   ]
  },
  {
   "cell_type": "code",
   "execution_count": 5,
   "metadata": {},
   "outputs": [
    {
     "name": "stdout",
     "output_type": "stream",
     "text": [
      "Value 10 is stored in memory address 0x7ffed5239460\n"
     ]
    }
   ],
   "source": [
    "number = 10\n",
    "print('Value 10 is stored in memory address {}'.format(hex(id(number))))"
   ]
  },
  {
   "cell_type": "markdown",
   "metadata": {},
   "source": [
    "Here, we have created a named `number`.   \n",
    "We have assigned value 10 to the variable.    \n",
    "You can think variable as a bag to store books in it and those books can be replaced at any time."
   ]
  },
  {
   "cell_type": "code",
   "execution_count": 12,
   "metadata": {},
   "outputs": [
    {
     "name": "stdout",
     "output_type": "stream",
     "text": [
      "<class 'int'>\n",
      "<class 'float'>\n"
     ]
    },
    {
     "data": {
      "text/plain": [
       "1.1"
      ]
     },
     "execution_count": 12,
     "metadata": {},
     "output_type": "execute_result"
    }
   ],
   "source": [
    "number = 10\n",
    "print(type(number))\n",
    "number = 1.1\n",
    "print(type(number))\n",
    "number"
   ]
  },
  {
   "cell_type": "markdown",
   "metadata": {},
   "source": [
    "Initially, the value of `number` was 10. Later it's changed to 1.1.\n",
    "#### Note:\n",
    "In Python, we don't assign values to the variables, whereas Python gives the reference of the object (value) to the variable."
   ]
  },
  {
   "cell_type": "markdown",
   "metadata": {},
   "source": [
    "### Assigning a value to a Variable in Python\n",
    "As you can see from the above example, you can use the assignment operator `=` to assign a value to a variable."
   ]
  },
  {
   "cell_type": "code",
   "execution_count": 8,
   "metadata": {},
   "outputs": [
    {
     "name": "stdout",
     "output_type": "stream",
     "text": [
      "https://github.com/dollars9256741/5864_MLinEDU\n"
     ]
    }
   ],
   "source": [
    "MLinEDU_website = \"https://github.com/dollars9256741/5864_MLinEDU\"\n",
    "print(MLinEDU_website)"
   ]
  },
  {
   "cell_type": "markdown",
   "metadata": {},
   "source": [
    "In the above program, we assigned a value `https://github.com/dollars9256741/5864_MLinEDU` to the variable `MLinEDU_website`.  \n",
    "Then we print the value assigned to `MLinEDU_website` i.e. https://github.com/dollars9256741/5864_MLinEDU.\n",
    "#### Note : \n",
    "Python is a type inferred language; it can automatically know `https://github.com/dollars9256741/5864_MLinEDU` is a string and declare `MLinEDU_website` as a string.\n",
    "#### Example 1: Changing the value of a variable"
   ]
  },
  {
   "cell_type": "code",
   "execution_count": 11,
   "metadata": {},
   "outputs": [
    {
     "name": "stdout",
     "output_type": "stream",
     "text": [
      "https://github.com/dollars9256741/5864_MLinEDU\n",
      "https://github.com/dollars9256741/5864_MLinEDU/week3\n"
     ]
    }
   ],
   "source": [
    "MLinEDU_website = \"https://github.com/dollars9256741/5864_MLinEDU\"\n",
    "print(MLinEDU_website)\n",
    "\n",
    "# assigning a new variable to MLinEDU_website\n",
    "MLinEDU_website = \"https://github.com/dollars9256741/5864_MLinEDU/week3\"\n",
    "\n",
    "print(MLinEDU_website)"
   ]
  },
  {
   "cell_type": "markdown",
   "metadata": {},
   "source": [
    "In the above program, we have assigned `https://github.com/dollars9256741/5864_MLinEDU` to the `MLinEDU_website` variable initially. Then, it's value is changed to `https://github.com/dollars9256741/5864_MLinEDU\\week3`."
   ]
  },
  {
   "cell_type": "markdown",
   "metadata": {},
   "source": [
    "#### Example 2: Assigning multiple values to multiple variables"
   ]
  },
  {
   "cell_type": "code",
   "execution_count": 13,
   "metadata": {},
   "outputs": [
    {
     "name": "stdout",
     "output_type": "stream",
     "text": [
      "5\n",
      "3.2\n",
      "Hello\n"
     ]
    }
   ],
   "source": [
    "a, b, c = 5, 3.2, \"Hello\"\n",
    "print (a)\n",
    "print (b)\n",
    "print (c)"
   ]
  },
  {
   "cell_type": "markdown",
   "metadata": {},
   "source": [
    "If we want to assign the same value to multiple variables at once, we can do this as:"
   ]
  },
  {
   "cell_type": "code",
   "execution_count": 14,
   "metadata": {},
   "outputs": [
    {
     "name": "stdout",
     "output_type": "stream",
     "text": [
      "same\n",
      "same\n",
      "same\n"
     ]
    }
   ],
   "source": [
    "x = y = z = \"same\"\n",
    "print (x)\n",
    "print (y)\n",
    "print (z)"
   ]
  },
  {
   "cell_type": "markdown",
   "metadata": {},
   "source": [
    "The second program assigns the same string to all the three variables `x`, `y` and `z`."
   ]
  },
  {
   "cell_type": "markdown",
   "metadata": {},
   "source": [
    "### Constants\n",
    "A constant is a type of variable whose value cannot be changed.   \n",
    "It is helpful to think of constants as containers that hold information which cannot be changed later.  \n",
    "Non technically, you can think of constant as a bag to store some books and those books cannot be replaced once placed inside the bag.\n",
    "#### Example 3: Declaring and assigning value to a constant"
   ]
  },
  {
   "cell_type": "code",
   "execution_count": 6,
   "metadata": {},
   "outputs": [
    {
     "name": "stdout",
     "output_type": "stream",
     "text": [
      "importing Jupyter notebook from constant.ipynb\n",
      "3.14\n",
      "9.8\n"
     ]
    }
   ],
   "source": [
    "import Ipynb_importer\n",
    "import constant\n",
    "print(constant.PI)\n",
    "print(constant.GRAVITY)"
   ]
  },
  {
   "cell_type": "markdown",
   "metadata": {},
   "source": [
    "In the above program, we create a constant.ipynb module file.   \n",
    "Then, we assign the constant value to PI and GRAVITY.   \n",
    "After that, we import the constant module into Lecture_2.ipynb file.   \n",
    "Finally, we print the constant value.\n",
    "\n",
    "#### Note: \n",
    "In reality, we don't use constants in Python. The globals or constants module is used throughout the Python programs.\n",
    "\n"
   ]
  },
  {
   "cell_type": "markdown",
   "metadata": {},
   "source": [
    "### Rules and Naming convention for variables and constants\n",
    "1. Create a name that makes sense. \n",
    "    Suppose, `vowel` makes more sense than `v`.\n",
    "2. Use camelCase notation to declare a variable. It starts with lowercase letter. For example: `myName`, `myAge` and `myAddress`.\n",
    "3. Use capital letters where possible to declare a constant. For example: `PI`, `G`, `MASS` and `TEMP`.\n",
    "4. Never use special symbols like !, @, #, $, %... ...\n",
    "5. Don't start name with a digit.\n",
    "6. Constants are put into Python modules and meant not be changed.\n",
    "7. Constant and variable names should have combination of letters in lowercase (a to z) or uppercase (A to Z) or digits (0 to 9) or an underscore \"_\".   \n",
    "    For example: `snake_case`, `MACRO_CASE`, `camelCase` and `CapWords`."
   ]
  },
  {
   "cell_type": "markdown",
   "metadata": {},
   "source": [
    "## Section 2: if...else statement[2]\n",
    "### Python If ... Else\n",
    "#### Python Conditions and If statements\n",
    "Python supports the usual logical conditions from mathematics:\n",
    "\n",
    "+ Equals: `a == b`\n",
    "+ Not Equals: `a != b`\n",
    "+ Less than: `a < b`\n",
    "+ Less than or equal to: `a <= b`\n",
    "+ Greater than: `a > b`\n",
    "+ Greater than or equal to: `a >= b`  \n",
    "\n",
    "These conditions can be used in several ways, most commonly in \"if statements\" and loops.  \n",
    "An \"if statement\" is written by using the if keyword.\n",
    "#### Example 4:"
   ]
  },
  {
   "cell_type": "code",
   "execution_count": 7,
   "metadata": {},
   "outputs": [
    {
     "name": "stdout",
     "output_type": "stream",
     "text": [
      "b is greater than a\n"
     ]
    }
   ],
   "source": [
    "a = 1\n",
    "b = 5\n",
    "if b > a:\n",
    "    print(\"b is greater than a\")"
   ]
  },
  {
   "cell_type": "markdown",
   "metadata": {},
   "source": [
    "#### Indentation\n",
    "Python relies on indentation (whitespace at the beginning of a line) to define scope in the code.   \n",
    "Other programming languages often use curly-brackets for this purpose."
   ]
  },
  {
   "cell_type": "code",
   "execution_count": 8,
   "metadata": {},
   "outputs": [
    {
     "ename": "IndentationError",
     "evalue": "expected an indented block (<ipython-input-8-9d627531ee70>, line 4)",
     "output_type": "error",
     "traceback": [
      "\u001b[1;36m  File \u001b[1;32m\"<ipython-input-8-9d627531ee70>\"\u001b[1;36m, line \u001b[1;32m4\u001b[0m\n\u001b[1;33m    print(\"b is greater than a\")\u001b[0m\n\u001b[1;37m        ^\u001b[0m\n\u001b[1;31mIndentationError\u001b[0m\u001b[1;31m:\u001b[0m expected an indented block\n"
     ]
    }
   ],
   "source": [
    "a = 1\n",
    "b = 5\n",
    "if b > a:\n",
    "print(\"b is greater than a\")"
   ]
  },
  {
   "cell_type": "markdown",
   "metadata": {},
   "source": [
    "### Elif\n",
    "The elif keyword is pythons way of saying \"if the previous conditions were not true, then try this condition\".\n",
    "#### Example 5:"
   ]
  },
  {
   "cell_type": "code",
   "execution_count": 9,
   "metadata": {},
   "outputs": [
    {
     "name": "stdout",
     "output_type": "stream",
     "text": [
      "a and b are equal\n"
     ]
    }
   ],
   "source": [
    "a = 33.001\n",
    "b = 33.001\n",
    "if b > a:\n",
    "    print(\"b is greater than a\")\n",
    "elif a == b:\n",
    "    print(\"a and b are equal\")"
   ]
  },
  {
   "cell_type": "markdown",
   "metadata": {},
   "source": [
    "### Else\n",
    "The else keyword catches anything which isn't caught by the preceding conditions.\n",
    "#### Example 6:"
   ]
  },
  {
   "cell_type": "code",
   "execution_count": 10,
   "metadata": {},
   "outputs": [
    {
     "name": "stdout",
     "output_type": "stream",
     "text": [
      "a is greater than b\n"
     ]
    }
   ],
   "source": [
    "a = 200\n",
    "b = 33\n",
    "if b > a:\n",
    "    print(\"b is greater than a\")\n",
    "elif a == b:\n",
    "    print(\"a and b are equal\")\n",
    "else:\n",
    "    print(\"a is greater than b\")"
   ]
  },
  {
   "cell_type": "markdown",
   "metadata": {},
   "source": [
    "You can also have an else without the `elif`."
   ]
  },
  {
   "cell_type": "code",
   "execution_count": 11,
   "metadata": {},
   "outputs": [
    {
     "name": "stdout",
     "output_type": "stream",
     "text": [
      "b is not greater than a\n"
     ]
    }
   ],
   "source": [
    "a = 200\n",
    "b = 33\n",
    "if b > a:\n",
    "    print(\"b is greater than a\")\n",
    "else:\n",
    "    print(\"b is not greater than a\")"
   ]
  },
  {
   "cell_type": "markdown",
   "metadata": {},
   "source": [
    "### Short Hand If\n",
    "If you have only one statement to execute, you can put it on the same line as the if statement."
   ]
  },
  {
   "cell_type": "code",
   "execution_count": 12,
   "metadata": {},
   "outputs": [
    {
     "name": "stdout",
     "output_type": "stream",
     "text": [
      "9.8 is greater than 3.14\n"
     ]
    }
   ],
   "source": [
    "if constant.GRAVITY > constant.PI: print(\"{} is greater than {}\".format(constant.GRAVITY,constant.PI))"
   ]
  },
  {
   "cell_type": "markdown",
   "metadata": {},
   "source": [
    "### Short Hand If ... Else\n",
    "If you have only one statement to execute, one for if, and one for else, you can put it all on the same line:"
   ]
  },
  {
   "cell_type": "code",
   "execution_count": 13,
   "metadata": {},
   "outputs": [
    {
     "name": "stdout",
     "output_type": "stream",
     "text": [
      "B\n"
     ]
    }
   ],
   "source": [
    "print(\"A\") if constant.GRAVITY < constant.PI else print(\"B\")"
   ]
  },
  {
   "cell_type": "markdown",
   "metadata": {},
   "source": [
    "You can also have multiple else statements on the same line:"
   ]
  },
  {
   "cell_type": "code",
   "execution_count": 14,
   "metadata": {},
   "outputs": [
    {
     "name": "stdout",
     "output_type": "stream",
     "text": [
      "=\n"
     ]
    }
   ],
   "source": [
    "a = 330\n",
    "b = 330\n",
    "print(\"A\") if a > b else print(\"=\") if a == b else print(\"B\")\n",
    "\"\"\"if a>b : \n",
    "        print(\"A\")\n",
    "   else:\n",
    "       if a==b:\n",
    "           print(\"=\")\n",
    "       else:\n",
    "           print(\"B\")\"\"\" "
   ]
  },
  {
   "cell_type": "markdown",
   "metadata": {},
   "source": [
    "### Nested If\n",
    "You can have if statements inside if statements, this is called nested if statements."
   ]
  },
  {
   "cell_type": "code",
   "execution_count": 15,
   "metadata": {},
   "outputs": [
    {
     "name": "stdout",
     "output_type": "stream",
     "text": [
      "Above ten,\n",
      "and also above 20!\n"
     ]
    }
   ],
   "source": [
    "x = 41\n",
    "if x > 10:\n",
    "    print(\"Above ten,\")\n",
    "    if x > 20:\n",
    "        print(\"and also above 20!\")\n",
    "    else:\n",
    "        print(\"but not above 20.\")"
   ]
  },
  {
   "cell_type": "markdown",
   "metadata": {},
   "source": [
    "## Section 3: Loops in Python\n",
    "### Python Loops\n",
    "Python has two primitive loop commands:\n",
    "+ `while` loops\n",
    "+ `for` loops\n",
    "\n",
    "### The while Loop\n",
    "With the `while` loop we can execute a set of statements as long as a condition is true.\n",
    "#### Example 7: Print i as long as i is less than 6"
   ]
  },
  {
   "cell_type": "code",
   "execution_count": 16,
   "metadata": {},
   "outputs": [
    {
     "name": "stdout",
     "output_type": "stream",
     "text": [
      "1\n",
      "2\n",
      "3\n",
      "4\n",
      "5\n"
     ]
    }
   ],
   "source": [
    "i = 1\n",
    "while i < 6:\n",
    "    print(i)\n",
    "    i += 1"
   ]
  },
  {
   "cell_type": "markdown",
   "metadata": {},
   "source": [
    "The `while` loop requires relevant variables to be ready, in this example we need to define an indexing variable, `i`, which we set to 1.\n",
    "#### Note: \n",
    "Remember to increment i, or else **the loop will continue forever**.\n",
    "### The break Statement\n",
    "With the `break` statement we can stop the loop even if the `while` condition is true:\n",
    "#### Example 8: Exit the loop when i is 3"
   ]
  },
  {
   "cell_type": "code",
   "execution_count": 17,
   "metadata": {},
   "outputs": [
    {
     "name": "stdout",
     "output_type": "stream",
     "text": [
      "1\n",
      "2\n",
      "3\n"
     ]
    }
   ],
   "source": [
    "i = 1\n",
    "while i < 6:\n",
    "    print(i)\n",
    "    if i == 3:\n",
    "        break\n",
    "    i += 1"
   ]
  },
  {
   "cell_type": "markdown",
   "metadata": {},
   "source": [
    "### The continue Statement\n",
    "With the `continue` statement we can stop the current iteration, and continue with the next.\n",
    "#### Example 9: Continue to the next iteration if i is 3"
   ]
  },
  {
   "cell_type": "code",
   "execution_count": 18,
   "metadata": {},
   "outputs": [
    {
     "name": "stdout",
     "output_type": "stream",
     "text": [
      "1\n",
      "2\n",
      "4\n",
      "5\n",
      "6\n"
     ]
    }
   ],
   "source": [
    "i = 0\n",
    "while i < 6:\n",
    "    i += 1\n",
    "    if i == 3:\n",
    "        continue\n",
    "    print(i)"
   ]
  },
  {
   "cell_type": "markdown",
   "metadata": {},
   "source": [
    "### The else Statement\n",
    "With the `else` statement we can run a block of code once when the condition no longer is true.\n",
    "#### Example 10: Print a message once the condition is false."
   ]
  },
  {
   "cell_type": "code",
   "execution_count": 19,
   "metadata": {},
   "outputs": [
    {
     "name": "stdout",
     "output_type": "stream",
     "text": [
      "1\n",
      "2\n",
      "3\n",
      "4\n",
      "5\n",
      "i is no longer less than 6\n"
     ]
    }
   ],
   "source": [
    "i = 1\n",
    "while i < 6:\n",
    "    print(i)\n",
    "    i += 1\n",
    "else:\n",
    "    print(\"i is no longer less than 6\")"
   ]
  },
  {
   "cell_type": "markdown",
   "metadata": {},
   "source": [
    "## Section 4: Python Iterator"
   ]
  },
  {
   "cell_type": "markdown",
   "metadata": {},
   "source": [
    "## Section 5: Python Scope"
   ]
  },
  {
   "cell_type": "markdown",
   "metadata": {},
   "source": [
    "## Section 6: Python Array[4]\n",
    "What is numpy array?"
   ]
  },
  {
   "cell_type": "code",
   "execution_count": 1,
   "metadata": {},
   "outputs": [],
   "source": [
    "import numpy as np"
   ]
  },
  {
   "cell_type": "code",
   "execution_count": null,
   "metadata": {},
   "outputs": [],
   "source": []
  },
  {
   "cell_type": "markdown",
   "metadata": {},
   "source": [
    "## Reference\n",
    "1. https://www.w3schools.com/python/\n",
    "2. https://www.programiz.com/python-programming/ \n",
    "3. https://www.tutorialsteacher.com/python/error-types-in-python\n",
    "4. https://likegeeks.com/numpy-array-tutorial/\n",
    "5. https://jupyter-notebook.readthedocs.io/en/stable/examples/Notebook/Importing%20Notebooks.html"
   ]
  },
  {
   "cell_type": "code",
   "execution_count": null,
   "metadata": {},
   "outputs": [],
   "source": []
  },
  {
   "cell_type": "code",
   "execution_count": null,
   "metadata": {},
   "outputs": [],
   "source": []
  },
  {
   "cell_type": "code",
   "execution_count": null,
   "metadata": {},
   "outputs": [],
   "source": []
  }
 ],
 "metadata": {
  "kernelspec": {
   "display_name": "Python 3",
   "language": "python",
   "name": "python3"
  },
  "language_info": {
   "codemirror_mode": {
    "name": "ipython",
    "version": 3
   },
   "file_extension": ".py",
   "mimetype": "text/x-python",
   "name": "python",
   "nbconvert_exporter": "python",
   "pygments_lexer": "ipython3",
   "version": "3.7.3"
  }
 },
 "nbformat": 4,
 "nbformat_minor": 2
}
