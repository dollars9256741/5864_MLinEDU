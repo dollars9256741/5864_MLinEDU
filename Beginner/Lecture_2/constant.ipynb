{
 "cells": [
  {
   "cell_type": "code",
   "execution_count": 2,
   "metadata": {},
   "outputs": [],
   "source": [
    "class constant:\n",
    "    class ConstError(TypeError) : pass\n",
    "    class ConstCaseError(ConstError):pass\n",
    "\n",
    "    def __setattr__(self, name, value):\n",
    "            if name in self.__dict__:\n",
    "                raise Exception(self.ConstError, \"Can't change const value!\")\n",
    "            if not name.isupper():\n",
    "                raise Exception(self.ConstCaseError, 'const \"%s\" is not all letters are capitalized' %name)\n",
    "            self.__dict__[name] = value\n",
    "\n",
    "import sys\n",
    "sys.modules[__name__] = constant()"
   ]
  },
  {
   "cell_type": "code",
   "execution_count": null,
   "metadata": {},
   "outputs": [],
   "source": []
  }
 ],
 "metadata": {
  "kernelspec": {
   "display_name": "Python 3",
   "language": "python",
   "name": "python3"
  },
  "language_info": {
   "codemirror_mode": {
    "name": "ipython",
    "version": 3
   },
   "file_extension": ".py",
   "mimetype": "text/x-python",
   "name": "python",
   "nbconvert_exporter": "python",
   "pygments_lexer": "ipython3",
   "version": "3.7.3"
  }
 },
 "nbformat": 4,
 "nbformat_minor": 2
}
